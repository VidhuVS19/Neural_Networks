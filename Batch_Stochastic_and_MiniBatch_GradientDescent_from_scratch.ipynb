{
 "cells": [
  {
   "cell_type": "code",
   "execution_count": 1,
   "id": "6079cd38-e027-4743-b3fb-0946dc54940a",
   "metadata": {},
   "outputs": [],
   "source": [
    "import pandas as pd\n",
    "import numpy as np\n",
    "from matplotlib import pyplot as plt\n",
    "%matplotlib inline"
   ]
  },
  {
   "cell_type": "code",
   "execution_count": 2,
   "id": "22765969-586b-4d02-ace0-6b16292f2ef3",
   "metadata": {},
   "outputs": [
    {
     "data": {
      "text/html": [
       "<div>\n",
       "<style scoped>\n",
       "    .dataframe tbody tr th:only-of-type {\n",
       "        vertical-align: middle;\n",
       "    }\n",
       "\n",
       "    .dataframe tbody tr th {\n",
       "        vertical-align: top;\n",
       "    }\n",
       "\n",
       "    .dataframe thead th {\n",
       "        text-align: right;\n",
       "    }\n",
       "</style>\n",
       "<table border=\"1\" class=\"dataframe\">\n",
       "  <thead>\n",
       "    <tr style=\"text-align: right;\">\n",
       "      <th></th>\n",
       "      <th>area</th>\n",
       "      <th>bedrooms</th>\n",
       "      <th>price</th>\n",
       "    </tr>\n",
       "  </thead>\n",
       "  <tbody>\n",
       "    <tr>\n",
       "      <th>9</th>\n",
       "      <td>3700</td>\n",
       "      <td>5</td>\n",
       "      <td>167.0</td>\n",
       "    </tr>\n",
       "    <tr>\n",
       "      <th>10</th>\n",
       "      <td>1800</td>\n",
       "      <td>3</td>\n",
       "      <td>82.0</td>\n",
       "    </tr>\n",
       "    <tr>\n",
       "      <th>11</th>\n",
       "      <td>2785</td>\n",
       "      <td>4</td>\n",
       "      <td>140.0</td>\n",
       "    </tr>\n",
       "    <tr>\n",
       "      <th>2</th>\n",
       "      <td>1440</td>\n",
       "      <td>3</td>\n",
       "      <td>62.0</td>\n",
       "    </tr>\n",
       "  </tbody>\n",
       "</table>\n",
       "</div>"
      ],
      "text/plain": [
       "    area  bedrooms  price\n",
       "9   3700         5  167.0\n",
       "10  1800         3   82.0\n",
       "11  2785         4  140.0\n",
       "2   1440         3   62.0"
      ]
     },
     "execution_count": 2,
     "metadata": {},
     "output_type": "execute_result"
    }
   ],
   "source": [
    "df = pd.read_csv(\"homeprices_banglore.csv\")\n",
    "df.sample(4)"
   ]
  },
  {
   "cell_type": "markdown",
   "id": "17ccc978-3fd4-4947-9293-7e73054bbb99",
   "metadata": {},
   "source": [
    "**Preprocessing/Scaling**: To bring the data to the same scale"
   ]
  },
  {
   "cell_type": "code",
   "execution_count": 7,
   "id": "e7d646b3-3cc6-4b5d-b6ed-9ee665142bb1",
   "metadata": {},
   "outputs": [],
   "source": [
    "from sklearn import preprocessing\n",
    "sx = preprocessing.MinMaxScaler() #This function brings every to 0 to 1 scale\n",
    "sy = preprocessing.MinMaxScaler()\n",
    "\n",
    "scaled_x = sx.fit_transform(df.drop('price',axis='columns'))\n",
    "scaled_y = sy.fit_transform(df['price'].values.reshape(df.shape[0],1))"
   ]
  },
  {
   "cell_type": "code",
   "execution_count": 8,
   "id": "c074b401-58f7-414a-b5d8-88550a215427",
   "metadata": {},
   "outputs": [
    {
     "data": {
      "text/plain": [
       "array([[0.08827586, 0.25      ],\n",
       "       [0.62068966, 0.75      ],\n",
       "       [0.22068966, 0.5       ],\n",
       "       [0.24862069, 0.5       ],\n",
       "       [0.13793103, 0.25      ],\n",
       "       [0.12758621, 0.25      ],\n",
       "       [0.6662069 , 0.75      ],\n",
       "       [0.86206897, 0.75      ],\n",
       "       [0.17586207, 0.5       ],\n",
       "       [1.        , 1.        ],\n",
       "       [0.34482759, 0.5       ],\n",
       "       [0.68448276, 0.75      ],\n",
       "       [0.06896552, 0.25      ],\n",
       "       [0.10344828, 0.25      ],\n",
       "       [0.5       , 0.5       ],\n",
       "       [0.12931034, 0.25      ],\n",
       "       [0.13103448, 0.5       ],\n",
       "       [0.25517241, 0.5       ],\n",
       "       [0.67931034, 0.5       ],\n",
       "       [0.        , 0.        ]])"
      ]
     },
     "execution_count": 8,
     "metadata": {},
     "output_type": "execute_result"
    }
   ],
   "source": [
    "scaled_x"
   ]
  },
  {
   "cell_type": "code",
   "execution_count": 11,
   "id": "45e627d6-c3ac-4b04-baa2-704d18cb4cbc",
   "metadata": {},
   "outputs": [
    {
     "data": {
      "text/plain": [
       "array([[0.05237037],\n",
       "       [0.65185185],\n",
       "       [0.22222222],\n",
       "       [0.31851852],\n",
       "       [0.14074074],\n",
       "       [0.04444444],\n",
       "       [0.76296296],\n",
       "       [0.91111111],\n",
       "       [0.13333333],\n",
       "       [1.        ],\n",
       "       [0.37037037],\n",
       "       [0.8       ],\n",
       "       [0.04444444],\n",
       "       [0.05925926],\n",
       "       [0.51111111],\n",
       "       [0.07407407],\n",
       "       [0.11851852],\n",
       "       [0.20740741],\n",
       "       [0.51851852],\n",
       "       [0.        ]])"
      ]
     },
     "execution_count": 11,
     "metadata": {},
     "output_type": "execute_result"
    }
   ],
   "source": [
    "scaled_y"
   ]
  },
  {
   "cell_type": "code",
   "execution_count": 13,
   "id": "c57e285d-4d65-4a3b-b15e-087e36a7e6fb",
   "metadata": {},
   "outputs": [
    {
     "data": {
      "text/plain": [
       "(array([0.70712464, 0.67456527]), -0.23034857438407427, 0.0068641890429808105)"
      ]
     },
     "execution_count": 13,
     "metadata": {},
     "output_type": "execute_result"
    }
   ],
   "source": [
    "def batch_gradient_descent(x, y_true, epochs, learning_rate = 0.01):\n",
    "    number_of_features = x.shape[1]\n",
    "    \n",
    "    w = np.ones(shape=(number_of_features))\n",
    "    b = 0\n",
    "    total_samples = x.shape[0]\n",
    "\n",
    "    cost_list = []\n",
    "    epoch_list = []\n",
    "    \n",
    "    for i in range(epochs):\n",
    "        y_predicted = np.dot(w, x.T) + b\n",
    "\n",
    "        w_grad = -(2/total_samples)*(x.T.dot(y_true - y_predicted)) #x.T is Transpose of x\n",
    "        b_grad = -(2/total_samples)*np.sum(y_true - y_predicted)\n",
    "\n",
    "        w = w - learning_rate*w_grad\n",
    "        b = b - learning_rate*b_grad\n",
    "\n",
    "        cost = np.mean(np.square(y_true - y_predicted)) #MeanSquareError\n",
    "\n",
    "        if i%10==0: #for every 10th iteration\n",
    "            cost_list.append(cost)\n",
    "            epoch_list.append(i)\n",
    "\n",
    "    return w,b,cost,cost_list,epoch_list\n",
    "\n",
    "w,b,cost,cost_list,epoch_list = batch_gradient_descent(scaled_x,scaled_y.reshape(scaled_y.shape[0],),500)\n",
    "w,b,cost"
   ]
  },
  {
   "cell_type": "code",
   "execution_count": 14,
   "id": "dbd97c22-637d-442b-a4a1-ec8f2088535d",
   "metadata": {},
   "outputs": [
    {
     "data": {
      "text/plain": [
       "[<matplotlib.lines.Line2D at 0x1d07aef3210>]"
      ]
     },
     "execution_count": 14,
     "metadata": {},
     "output_type": "execute_result"
    },
    {
     "data": {
      "image/png": "[encoded data removed]",
      "text/plain": [
       "<Figure size 640x480 with 1 Axes>"
      ]
     },
     "metadata": {},
     "output_type": "display_data"
    }
   ],
   "source": [
    "plt.xlabel(\"epoch\")\n",
    "plt.ylabel(\"cost\")\n",
    "plt.plot(epoch_list, cost_list)"
   ]
  },
  {
   "cell_type": "markdown",
   "id": "cfecd038-42f2-43eb-b276-0b412a3d98df",
   "metadata": {},
   "source": [
    "The above is a graph of the cost vs epoch, which shows gradient descent visually"
   ]
  },
  {
   "cell_type": "code",
   "execution_count": 17,
   "id": "b5836e92-9a43-48f8-ad6b-e3a072e07829",
   "metadata": {},
   "outputs": [
    {
     "name": "stderr",
     "output_type": "stream",
     "text": [
      "C:\\Users\\VidhuVikasSingh\\anaconda3\\Lib\\site-packages\\sklearn\\base.py:439: UserWarning: X does not have valid feature names, but MinMaxScaler was fitted with feature names\n",
      "  warnings.warn(\n"
     ]
    },
    {
     "data": {
      "text/plain": [
       "128.45484403267596"
      ]
     },
     "execution_count": 17,
     "metadata": {},
     "output_type": "execute_result"
    }
   ],
   "source": [
    "def prediction(area,bedrooms,w,b):\n",
    "    scaled_x = sx.transform([[area,bedrooms]])[0]\n",
    "    scaled_price = w[0]*scaled_x[0] + w[1]*scaled_x[1] + b\n",
    "    return sy.inverse_transform([[scaled_price]])[0][0]\n",
    "\n",
    "prediction(2600,4,w,b)"
   ]
  },
  {
   "cell_type": "code",
   "execution_count": 19,
   "id": "ade25101-e49c-425d-b04d-c4bb5e2532d9",
   "metadata": {},
   "outputs": [
    {
     "name": "stderr",
     "output_type": "stream",
     "text": [
      "C:\\Users\\VidhuVikasSingh\\anaconda3\\Lib\\site-packages\\sklearn\\base.py:439: UserWarning: X does not have valid feature names, but MinMaxScaler was fitted with feature names\n",
      "  warnings.warn(\n"
     ]
    },
    {
     "data": {
      "text/plain": [
       "69.47860785714694"
      ]
     },
     "execution_count": 19,
     "metadata": {},
     "output_type": "execute_result"
    }
   ],
   "source": [
    "prediction(1500,3,w,b)"
   ]
  },
  {
   "cell_type": "code",
   "execution_count": 20,
   "id": "908ac289-bac4-46d6-a495-f64b5d4d7cf5",
   "metadata": {},
   "outputs": [
    {
     "name": "stderr",
     "output_type": "stream",
     "text": [
      "C:\\Users\\VidhuVikasSingh\\anaconda3\\Lib\\site-packages\\sklearn\\base.py:439: UserWarning: X does not have valid feature names, but MinMaxScaler was fitted with feature names\n",
      "  warnings.warn(\n"
     ]
    },
    {
     "data": {
      "text/plain": [
       "30.253094462442355"
      ]
     },
     "execution_count": 20,
     "metadata": {},
     "output_type": "execute_result"
    }
   ],
   "source": [
    "prediction(1000,2,w,b)"
   ]
  },
  {
   "cell_type": "code",
   "execution_count": 25,
   "id": "164b0b34-171c-4122-b5bd-056f5e6fb85d",
   "metadata": {},
   "outputs": [
    {
     "name": "stdout",
     "output_type": "stream",
     "text": [
      "5\n",
      "5\n",
      "6\n",
      "0\n",
      "0\n",
      "5\n",
      "4\n",
      "3\n"
     ]
    }
   ],
   "source": [
    "import random\n",
    "for i in range(8): \n",
    "    print(random.randint(0,6)) #generates a random integer in the specified range(including boundary integers)"
   ]
  },
  {
   "cell_type": "code",
   "execution_count": 31,
   "id": "ba7bcc58-f1ae-46cd-9c84-b18935e29299",
   "metadata": {},
   "outputs": [
    {
     "data": {
      "text/plain": [
       "(array([0.70446418, 0.67192566]), -0.22677548593101246, 0.00027252830257865117)"
      ]
     },
     "execution_count": 31,
     "metadata": {},
     "output_type": "execute_result"
    }
   ],
   "source": [
    "def stochastic_gradient_descent(x,y_true,epochs,learning_rate=0.01):\n",
    "    number_of_features = x.shape[1]\n",
    "    w = np.ones(shape=(number_of_features))\n",
    "    b = 0\n",
    "    total_samples = x.shape[0]\n",
    "\n",
    "    cost_list = []\n",
    "    epoch_list = []\n",
    "\n",
    "    for i in range(epochs):\n",
    "        random_index = random.randint(0,total_samples-1)\n",
    "        sample_x = x[random_index]\n",
    "        sample_y = y_true[random_index]\n",
    "        y_predicted = np.dot(w, sample_x.T) + b\n",
    "\n",
    "        w_grad = -(2/total_samples)*(sample_x.T.dot(sample_y - y_predicted)) #x.T is Transpose of x\n",
    "        b_grad = -(2/total_samples)*np.sum(sample_y - y_predicted)\n",
    "\n",
    "        w = w - learning_rate*w_grad\n",
    "        b = b - learning_rate*b_grad\n",
    "\n",
    "        cost = np.square(sample_y - y_predicted) #MeanSquareError\n",
    "\n",
    "        if i%100==0: #for every 100th iteration, record cost and epoch\n",
    "            cost_list.append(cost)\n",
    "            epoch_list.append(i)\n",
    "\n",
    "    return w,b,cost,cost_list,epoch_list\n",
    "\n",
    "w_sgd, b_sgd, cost_sgd, cost_list_sgd, epoch_list_sgd = stochastic_gradient_descent(scaled_x,scaled_y.reshape(scaled_y.shape[0],),10000)\n",
    "w_sgd, b_sgd, cost_sgd"
   ]
  },
  {
   "cell_type": "code",
   "execution_count": 32,
   "id": "f3f06944-de1c-4a63-bc0f-2ee25c99d006",
   "metadata": {},
   "outputs": [
    {
     "data": {
      "text/plain": [
       "[<matplotlib.lines.Line2D at 0x1d07b08ab10>]"
      ]
     },
     "execution_count": 32,
     "metadata": {},
     "output_type": "execute_result"
    },
    {
     "data": {
      "image/png": "[encoded data removed]",
      "text/plain": [
       "<Figure size 640x480 with 1 Axes>"
      ]
     },
     "metadata": {},
     "output_type": "display_data"
    }
   ],
   "source": [
    "plt.xlabel(\"epoch\")\n",
    "plt.ylabel(\"cost\")\n",
    "plt.plot(epoch_list_sgd, cost_list_sgd)"
   ]
  },
  {
   "cell_type": "code",
   "execution_count": 33,
   "id": "a291c2f8-8a46-42fa-afc1-2272192f5142",
   "metadata": {},
   "outputs": [
    {
     "name": "stderr",
     "output_type": "stream",
     "text": [
      "C:\\Users\\VidhuVikasSingh\\anaconda3\\Lib\\site-packages\\sklearn\\base.py:439: UserWarning: X does not have valid feature names, but MinMaxScaler was fitted with feature names\n",
      "  warnings.warn(\n"
     ]
    },
    {
     "data": {
      "text/plain": [
       "128.44702224705347"
      ]
     },
     "execution_count": 33,
     "metadata": {},
     "output_type": "execute_result"
    }
   ],
   "source": [
    "prediction(2600,4,w_sgd,b_sgd)"
   ]
  },
  {
   "cell_type": "markdown",
   "id": "4fdda4f4-86e5-461e-aa79-86c59357ad8a",
   "metadata": {},
   "source": [
    "<h1>The code after this is written solely by me</h1>"
   ]
  },
  {
   "cell_type": "code",
   "execution_count": 38,
   "id": "6b150ba6-38e5-4e38-96da-35bac67733c5",
   "metadata": {},
   "outputs": [
    {
     "data": {
      "text/plain": [
       "(array([0.70501068, 0.6741005 ]), -0.22803849555421257, 0.00019665305584843848)"
      ]
     },
     "execution_count": 38,
     "metadata": {},
     "output_type": "execute_result"
    }
   ],
   "source": [
    "def mini_batch_gradient_descent(x,y_true,epochs,learning_rate=0.01):\n",
    "    number_of_features = x.shape[1]\n",
    "    w = np.ones(shape=(number_of_features)) #Assigning 1 to all weights initially\n",
    "    b = 0\n",
    "    total_samples = x.shape[0]\n",
    "\n",
    "    cost_list = []\n",
    "    epoch_list = []\n",
    "\n",
    "    for i in range(epochs):\n",
    "        #random_lower_limit = random.randint(0,total_samples-1)\n",
    "        #random_upper_limit = random.randint(random_lower_limit,total_samples-1)\n",
    "        #The above lines randomize the size of the batch as well\n",
    "\n",
    "        #The below code takes a batch of 10 only\n",
    "        random_lower_limit = random.randint(0,total_samples-1-9)\n",
    "        random_upper_limit = random_lower_limit+9\n",
    "        \n",
    "        x_new_sample = x[random_lower_limit, random_upper_limit]\n",
    "        y_new_sample = y_true[random_lower_limit, random_upper_limit]\n",
    "\n",
    "        y_predicted = np.dot(w, x_new_sample.T) + b\n",
    "        \n",
    "        w_grad = -(2/total_samples)*(x_new_sample.T.dot(y_new_sample - y_predicted)) #x.T is Transpose of x\n",
    "        b_grad = -(2/total_samples)*np.sum(y_new_sample - y_predicted)\n",
    "\n",
    "        w = w - learning_rate*w_grad\n",
    "        b = b - learning_rate*b_grad\n",
    "\n",
    "        cost = np.mean(np.square(y_new_sample - y_predicted)) #MeanSquareError\n",
    "\n",
    "        if i%100==0: #for every 100th iteration\n",
    "            cost_list.append(cost)\n",
    "            epoch_list.append(i)\n",
    "\n",
    "    return w,b,cost,cost_list,epoch_list\n",
    "\n",
    "w_mbgd, b_mbgd, cost_mbgd, cost_list_mbgd, epoch_list_mbgd = stochastic_gradient_descent(scaled_x,scaled_y.reshape(scaled_y.shape[0],),10000)\n",
    "w_mbgd, b_mbgd, cost_mbgd"
   ]
  },
  {
   "cell_type": "code",
   "execution_count": 39,
   "id": "59bf6e6b-bc8a-48ad-83fa-27064040d9c4",
   "metadata": {},
   "outputs": [
    {
     "data": {
      "text/plain": [
       "[<matplotlib.lines.Line2D at 0x1d07ba2bb50>]"
      ]
     },
     "execution_count": 39,
     "metadata": {},
     "output_type": "execute_result"
    },
    {
     "data": {
      "image/png": "[encoded data removed]",
      "text/plain": [
       "<Figure size 640x480 with 1 Axes>"
      ]
     },
     "metadata": {},
     "output_type": "display_data"
    }
   ],
   "source": [
    "plt.xlabel(\"epoch\")\n",
    "plt.ylabel(\"cost\")\n",
    "plt.plot(epoch_list_mbgd, cost_list_mbgd)"
   ]
  },
  {
   "cell_type": "code",
   "execution_count": 40,
   "id": "7683c7b7-1bc0-4747-9fa6-2a06ea0ed78d",
   "metadata": {},
   "outputs": [
    {
     "name": "stderr",
     "output_type": "stream",
     "text": [
      "C:\\Users\\VidhuVikasSingh\\anaconda3\\Lib\\site-packages\\sklearn\\base.py:439: UserWarning: X does not have valid feature names, but MinMaxScaler was fitted with feature names\n",
      "  warnings.warn(\n"
     ]
    },
    {
     "data": {
      "text/plain": [
       "128.54251177360365"
      ]
     },
     "execution_count": 40,
     "metadata": {},
     "output_type": "execute_result"
    }
   ],
   "source": [
    "prediction(2600,4,w_mbgd,b_mbgd)"
   ]
  },
  {
   "cell_type": "code",
   "execution_count": null,
   "id": "7c8ecf83-5431-44d8-affc-cc2ea3f89860",
   "metadata": {},
   "outputs": [],
   "source": []
  }
 ],
 "metadata": {
  "kernelspec": {
   "display_name": "Python 3 (ipykernel)",
   "language": "python",
   "name": "python3"
  },
  "language_info": {
   "codemirror_mode": {
    "name": "ipython",
    "version": 3
   },
   "file_extension": ".py",
   "mimetype": "text/x-python",
   "name": "python",
   "nbconvert_exporter": "python",
   "pygments_lexer": "ipython3",
   "version": "3.11.7"
  }
 },
 "nbformat": 4,
 "nbformat_minor": 5
}
